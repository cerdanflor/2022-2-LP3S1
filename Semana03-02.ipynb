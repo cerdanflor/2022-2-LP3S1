{
 "cells": [
  {
   "cell_type": "markdown",
   "id": "99ead06c",
   "metadata": {},
   "source": [
    "# SEMANA 03\n",
    "Mg. Flor Elizabeth Cerdán León"
   ]
  },
  {
   "cell_type": "markdown",
   "id": "40cd46be",
   "metadata": {},
   "source": [
    "# Temas:\n",
    "    1. Números\n",
    "    2. Variables\n",
    "    3. Manejo de Cadenas\n",
    "    4. Ingreso de Datos por Teclado\n",
    "    5. Operadores"
   ]
  },
  {
   "cell_type": "markdown",
   "id": "8049b43c",
   "metadata": {},
   "source": [
    "2. Variables"
   ]
  },
  {
   "cell_type": "code",
   "execution_count": 2,
   "id": "a1421a94",
   "metadata": {},
   "outputs": [],
   "source": [
    "# Siempre deben iniciar con letra o un guión abajo.(Nunca con un número u otro símbolo)"
   ]
  },
  {
   "cell_type": "code",
   "execution_count": 3,
   "id": "ddc5ee77",
   "metadata": {},
   "outputs": [
    {
     "data": {
      "text/plain": [
       "41"
      ]
     },
     "execution_count": 3,
     "metadata": {},
     "output_type": "execute_result"
    }
   ],
   "source": [
    "edad = 41\n",
    "edad"
   ]
  },
  {
   "cell_type": "code",
   "execution_count": 4,
   "id": "f75e2415",
   "metadata": {},
   "outputs": [],
   "source": [
    "nombre = \"Flor\""
   ]
  },
  {
   "cell_type": "code",
   "execution_count": 5,
   "id": "044a3635",
   "metadata": {},
   "outputs": [
    {
     "data": {
      "text/plain": [
       "'Flor'"
      ]
     },
     "execution_count": 5,
     "metadata": {},
     "output_type": "execute_result"
    }
   ],
   "source": [
    "nombre"
   ]
  },
  {
   "cell_type": "code",
   "execution_count": 6,
   "id": "257de96d",
   "metadata": {},
   "outputs": [],
   "source": [
    "apellido = \"Cerdán León\""
   ]
  },
  {
   "cell_type": "code",
   "execution_count": 7,
   "id": "ab6ab0bb",
   "metadata": {},
   "outputs": [
    {
     "data": {
      "text/plain": [
       "'Cerdán León'"
      ]
     },
     "execution_count": 7,
     "metadata": {},
     "output_type": "execute_result"
    }
   ],
   "source": [
    "apellido"
   ]
  },
  {
   "cell_type": "code",
   "execution_count": 8,
   "id": "496db83e",
   "metadata": {},
   "outputs": [],
   "source": [
    "nombrecompleto = nombre + apellido"
   ]
  },
  {
   "cell_type": "code",
   "execution_count": 9,
   "id": "ba23d325",
   "metadata": {},
   "outputs": [
    {
     "data": {
      "text/plain": [
       "'FlorCerdán León'"
      ]
     },
     "execution_count": 9,
     "metadata": {},
     "output_type": "execute_result"
    }
   ],
   "source": [
    "nombrecompleto"
   ]
  },
  {
   "cell_type": "code",
   "execution_count": 10,
   "id": "73a2460c",
   "metadata": {},
   "outputs": [],
   "source": [
    "nombrecompleto = nombre + \" \" + apellido"
   ]
  },
  {
   "cell_type": "code",
   "execution_count": 11,
   "id": "882d3d9d",
   "metadata": {},
   "outputs": [
    {
     "data": {
      "text/plain": [
       "'Flor Cerdán León'"
      ]
     },
     "execution_count": 11,
     "metadata": {},
     "output_type": "execute_result"
    }
   ],
   "source": [
    "nombrecompleto"
   ]
  },
  {
   "cell_type": "code",
   "execution_count": 12,
   "id": "3b4f567e",
   "metadata": {},
   "outputs": [],
   "source": [
    "# Para saber el tipo de variable utilizamos la función type()\n",
    "# Ejemplo:"
   ]
  },
  {
   "cell_type": "code",
   "execution_count": 13,
   "id": "d03193c5",
   "metadata": {},
   "outputs": [
    {
     "data": {
      "text/plain": [
       "int"
      ]
     },
     "execution_count": 13,
     "metadata": {},
     "output_type": "execute_result"
    }
   ],
   "source": [
    "numero = 50\n",
    "type(numero)"
   ]
  },
  {
   "cell_type": "code",
   "execution_count": 14,
   "id": "5a3d5486",
   "metadata": {},
   "outputs": [
    {
     "data": {
      "text/plain": [
       "str"
      ]
     },
     "execution_count": 14,
     "metadata": {},
     "output_type": "execute_result"
    }
   ],
   "source": [
    "type(nombre)"
   ]
  },
  {
   "cell_type": "code",
   "execution_count": 15,
   "id": "bfec1c44",
   "metadata": {},
   "outputs": [],
   "source": [
    "talla = 1.57"
   ]
  },
  {
   "cell_type": "code",
   "execution_count": 16,
   "id": "c70bce75",
   "metadata": {},
   "outputs": [
    {
     "data": {
      "text/plain": [
       "1.57"
      ]
     },
     "execution_count": 16,
     "metadata": {},
     "output_type": "execute_result"
    }
   ],
   "source": [
    "talla"
   ]
  },
  {
   "cell_type": "code",
   "execution_count": 17,
   "id": "aef0aa11",
   "metadata": {},
   "outputs": [
    {
     "data": {
      "text/plain": [
       "float"
      ]
     },
     "execution_count": 17,
     "metadata": {},
     "output_type": "execute_result"
    }
   ],
   "source": [
    "type(talla)"
   ]
  },
  {
   "cell_type": "code",
   "execution_count": 18,
   "id": "4d81a28d",
   "metadata": {},
   "outputs": [],
   "source": [
    "# Para convertir un múmero en una cadena utilizamos str()"
   ]
  },
  {
   "cell_type": "code",
   "execution_count": 19,
   "id": "76f6d542",
   "metadata": {},
   "outputs": [],
   "source": [
    "numero = 100\n",
    "cadena = str(numero)"
   ]
  },
  {
   "cell_type": "code",
   "execution_count": 20,
   "id": "6c11db92",
   "metadata": {},
   "outputs": [
    {
     "data": {
      "text/plain": [
       "'100'"
      ]
     },
     "execution_count": 20,
     "metadata": {},
     "output_type": "execute_result"
    }
   ],
   "source": [
    "cadena"
   ]
  },
  {
   "cell_type": "code",
   "execution_count": 21,
   "id": "16dfc432",
   "metadata": {},
   "outputs": [
    {
     "data": {
      "text/plain": [
       "str"
      ]
     },
     "execution_count": 21,
     "metadata": {},
     "output_type": "execute_result"
    }
   ],
   "source": [
    "type(cadena)"
   ]
  },
  {
   "cell_type": "code",
   "execution_count": 22,
   "id": "a7b0b9b6",
   "metadata": {},
   "outputs": [],
   "source": [
    "# Para convertir una cadena en un entero utilizamos int()"
   ]
  },
  {
   "cell_type": "code",
   "execution_count": 23,
   "id": "2525f624",
   "metadata": {},
   "outputs": [
    {
     "data": {
      "text/plain": [
       "50"
      ]
     },
     "execution_count": 23,
     "metadata": {},
     "output_type": "execute_result"
    }
   ],
   "source": [
    "cadena2 = \"50\"\n",
    "numero2 = int(cadena2)\n",
    "numero2"
   ]
  },
  {
   "cell_type": "code",
   "execution_count": 24,
   "id": "d701bb32",
   "metadata": {},
   "outputs": [
    {
     "data": {
      "text/plain": [
       "int"
      ]
     },
     "execution_count": 24,
     "metadata": {},
     "output_type": "execute_result"
    }
   ],
   "source": [
    "type(numero2)"
   ]
  },
  {
   "cell_type": "code",
   "execution_count": 25,
   "id": "5b7690d5",
   "metadata": {},
   "outputs": [],
   "source": [
    "cadena2 = \"50\"\n",
    "numero2 = float(cadena2)"
   ]
  },
  {
   "cell_type": "code",
   "execution_count": 26,
   "id": "acc4b682",
   "metadata": {},
   "outputs": [
    {
     "data": {
      "text/plain": [
       "50.0"
      ]
     },
     "execution_count": 26,
     "metadata": {},
     "output_type": "execute_result"
    }
   ],
   "source": [
    "numero2"
   ]
  },
  {
   "cell_type": "code",
   "execution_count": 27,
   "id": "f67540e7",
   "metadata": {},
   "outputs": [
    {
     "data": {
      "text/plain": [
       "str"
      ]
     },
     "execution_count": 27,
     "metadata": {},
     "output_type": "execute_result"
    }
   ],
   "source": [
    "type(cadena2)"
   ]
  },
  {
   "cell_type": "code",
   "execution_count": 28,
   "id": "8e55a7de",
   "metadata": {},
   "outputs": [
    {
     "data": {
      "text/plain": [
       "float"
      ]
     },
     "execution_count": 28,
     "metadata": {},
     "output_type": "execute_result"
    }
   ],
   "source": [
    "type(numero2)"
   ]
  }
 ],
 "metadata": {
  "kernelspec": {
   "display_name": "Python 3 (ipykernel)",
   "language": "python",
   "name": "python3"
  },
  "language_info": {
   "codemirror_mode": {
    "name": "ipython",
    "version": 3
   },
   "file_extension": ".py",
   "mimetype": "text/x-python",
   "name": "python",
   "nbconvert_exporter": "python",
   "pygments_lexer": "ipython3",
   "version": "3.9.7"
  }
 },
 "nbformat": 4,
 "nbformat_minor": 5
}
